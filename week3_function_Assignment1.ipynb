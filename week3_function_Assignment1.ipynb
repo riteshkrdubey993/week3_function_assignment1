{
 "cells": [
  {
   "cell_type": "markdown",
   "id": "75e4aedc",
   "metadata": {},
   "source": [
    "Q1. Which keyword is used to create a function? Create a function to return a list of odd numbers in the\n",
    "range of 1 to 25.\n",
    "\n",
    "\n",
    "\n",
    "To create a function we use \"def\" keyword and function name. Code below is a function to find list of odd number from list of a number using filter and lambda function.\n",
    "\n"
   ]
  },
  {
   "cell_type": "code",
   "execution_count": 34,
   "id": "66389f10",
   "metadata": {},
   "outputs": [
    {
     "data": {
      "text/plain": [
       "[1, 3, 5, 7, 9, 11, 13, 15, 17, 19, 21, 23]"
      ]
     },
     "execution_count": 34,
     "metadata": {},
     "output_type": "execute_result"
    }
   ],
   "source": [
    "def odd(a):\n",
    "    return list(filter(lambda x : x%2!=0 , a))\n",
    "\n",
    "odd(range(1,25))"
   ]
  },
  {
   "cell_type": "raw",
   "id": "6836b73a",
   "metadata": {},
   "source": [
    "Q2. Why *args and **kwargs is used in some functions? Create a function each for *args and **kwargs\n",
    "to demonstrate their use.\n",
    "\n",
    "Both are used to pass multiple argument in the function. This can be particularly useful when you don't know in advance how many arguments will be passed to the function.\n",
    "\n",
    "*args syntax allows a function to accept any number of non-keyword arguments. Within the function, args is treated as a tuple containing all the passed arguments.\n",
    "\n",
    "**kwargs syntax allows a function to accept any number of keyword arguments (i.e., arguments passed with key-value pairs)."
   ]
  },
  {
   "cell_type": "code",
   "execution_count": 34,
   "id": "c31206fe",
   "metadata": {},
   "outputs": [
    {
     "name": "stdout",
     "output_type": "stream",
     "text": [
      "1\n",
      "2\n",
      "3\n",
      "Hello\n",
      "world\n"
     ]
    }
   ],
   "source": [
    "def print_args(*args):\n",
    "    for arg in args:\n",
    "        print(arg)\n",
    "\n",
    "print_args(1, 2, 3)  # Output: 1 2 3\n",
    "print_args('Hello', 'world')  # Output: Hello world"
   ]
  },
  {
   "cell_type": "markdown",
   "id": "badc6c0e",
   "metadata": {},
   "source": [
    "Q3. What is an iterator in python? Name the method used to initialise the iterator object and the method\n",
    "used for iteration. Use these methods to print the first five elements of the given list [2, 4, 6, 8, 10, 12, 14,\n",
    "16, 18, 20]."
   ]
  },
  {
   "cell_type": "raw",
   "id": "fa6562c8",
   "metadata": {},
   "source": [
    "An iterator in Python is an object that is used to iterate over iterable objects like lists, tuples, dicts, and sets.\n",
    "\n",
    "The iter() method is called for the initialization of an iterator. This returns an iterator object.\n",
    "The next method returns the next value for the iterable."
   ]
  },
  {
   "cell_type": "code",
   "execution_count": 38,
   "id": "20f574a2",
   "metadata": {},
   "outputs": [
    {
     "name": "stdout",
     "output_type": "stream",
     "text": [
      "2\n",
      "4\n",
      "6\n",
      "8\n",
      "10\n"
     ]
    }
   ],
   "source": [
    "lst =  [2, 4, 6, 8, 10, 12, 14, 16, 18, 20]\n",
    "lst_iter = iter(lst)\n",
    "\n",
    "for i in range(5):\n",
    "    print(next(lst_iter))\n"
   ]
  },
  {
   "cell_type": "markdown",
   "id": "28844abb",
   "metadata": {},
   "source": [
    "Q4. What is a generator function in python? Why yield keyword is used? Give an example of a generator\n",
    "function."
   ]
  },
  {
   "cell_type": "markdown",
   "id": "e8a89625",
   "metadata": {},
   "source": [
    "A generator function is a special type of function that returns an iterator, it is used to generate a sequence without storing it in any variable, which helps to save memory. Since they are only evoked at the time of execution so they don't have to occupy memory in reserve as in case of declarition of variables.\n",
    "\n",
    "'yield' key word is used to return the iterator's value. For example"
   ]
  },
  {
   "cell_type": "code",
   "execution_count": 83,
   "id": "90679543",
   "metadata": {},
   "outputs": [
    {
     "name": "stdout",
     "output_type": "stream",
     "text": [
      "<generator object fun at 0x0000020D04F226D0>\n",
      "0\n",
      "22\n",
      "44\n",
      "66\n",
      "88\n"
     ]
    }
   ],
   "source": [
    "def fun(n):\n",
    "    # Return the values in the range of 0 to n if they are disible by 2 and 11\n",
    "    for i in range(n):\n",
    "        if i%2==0 and i%11==0:\n",
    "            yield i\n",
    "\n",
    "\n",
    "print(fun(100))\n",
    "\n",
    "for i in fun(100):\n",
    "    print(i)"
   ]
  },
  {
   "cell_type": "markdown",
   "id": "da945357",
   "metadata": {},
   "source": [
    "Q5. Create a generator function for prime numbers less than 1000. Use the next() method to print the\n",
    "first 20 prime numbers."
   ]
  },
  {
   "cell_type": "code",
   "execution_count": 6,
   "id": "74c118fd",
   "metadata": {},
   "outputs": [
    {
     "name": "stdout",
     "output_type": "stream",
     "text": [
      "2\n",
      "3\n",
      "5\n",
      "7\n",
      "11\n"
     ]
    }
   ],
   "source": [
    "def prime_generator():\n",
    "    primes = []\n",
    "    num = 2\n",
    "\n",
    "    while num < 1000:\n",
    "        is_prime = True\n",
    "\n",
    "        for prime in primes:\n",
    "            if num % prime == 0:\n",
    "                is_prime = False\n",
    "                break\n",
    "\n",
    "        if is_prime:\n",
    "            primes.append(num)\n",
    "            yield num\n",
    "\n",
    "        num += 1\n",
    "\n",
    "# Using the generator function to print the first 20 prime numbers\n",
    "prime_gen = prime_generator()\n",
    "\n",
    "for _ in range(5):\n",
    "    print(next(prime_gen))"
   ]
  },
  {
   "cell_type": "code",
   "execution_count": null,
   "id": "99c4f541",
   "metadata": {},
   "outputs": [],
   "source": []
  },
  {
   "cell_type": "code",
   "execution_count": null,
   "id": "95cf6576",
   "metadata": {},
   "outputs": [],
   "source": []
  },
  {
   "cell_type": "markdown",
   "id": "617a6a05",
   "metadata": {},
   "source": [
    "Q6. Write a python program to print the first 10 Fibonacci numbers using a while loop."
   ]
  },
  {
   "cell_type": "code",
   "execution_count": 2,
   "id": "acbcdc5a",
   "metadata": {},
   "outputs": [
    {
     "name": "stdout",
     "output_type": "stream",
     "text": [
      "0\n",
      "1\n",
      "1\n",
      "2\n",
      "3\n",
      "5\n",
      "8\n",
      "13\n",
      "21\n",
      "34\n"
     ]
    }
   ],
   "source": [
    "a,b = 0,1\n",
    "count = 0\n",
    "while (count<10):\n",
    "    print(a)\n",
    "    count = count + 1\n",
    "    a,b = b , a+b"
   ]
  },
  {
   "cell_type": "markdown",
   "id": "d297b657",
   "metadata": {},
   "source": [
    "Q7. Write a List Comprehension to iterate through the given string: ‘pwskills’.\n",
    "Expected output: ['p', 'w', 's', 'k', 'i', 'l', 'l', 's']"
   ]
  },
  {
   "cell_type": "code",
   "execution_count": 33,
   "id": "deaa7394",
   "metadata": {},
   "outputs": [
    {
     "data": {
      "text/plain": [
       "['p', 'w', 's', 'k', 'i', 'l', 'l', 's']"
      ]
     },
     "execution_count": 33,
     "metadata": {},
     "output_type": "execute_result"
    }
   ],
   "source": [
    "[i for i in 'pwskills']"
   ]
  },
  {
   "cell_type": "markdown",
   "id": "7e940501",
   "metadata": {},
   "source": [
    "Q8. Write a python program to check whether a given number is Palindrome or not using a while loop."
   ]
  },
  {
   "cell_type": "code",
   "execution_count": 46,
   "id": "06f0c179",
   "metadata": {},
   "outputs": [
    {
     "name": "stdout",
     "output_type": "stream",
     "text": [
      "Number is a palindrome\n"
     ]
    }
   ],
   "source": [
    "def is_palindrome(number):\n",
    "    original_number = number\n",
    "    reversed_number = 0\n",
    "    remainder = 0\n",
    "\n",
    "    while number > 0:\n",
    "        remainder = number % 10\n",
    "        reversed_number = (reversed_number * 10) + remainder\n",
    "        number = number // 10\n",
    "\n",
    "    # Check if the reversed number is equal to the original number\n",
    "    if original_number == reversed_number:\n",
    "        return print('Number is a palindrome')\n",
    "    else:\n",
    "        return print('Number is not palindrome')\n",
    "\n",
    "# Test the function\n",
    "is_palindrome(101010101)\n"
   ]
  },
  {
   "cell_type": "markdown",
   "id": "51ab24f1",
   "metadata": {},
   "source": [
    "Q9. Write a code to print odd numbers from 1 to 100 using list comprehension.\n",
    "\n",
    "\n",
    "Note: Use a list comprehension to create a list from 1 to 100 and use another List comprehension to filter\n",
    "out odd numbers."
   ]
  },
  {
   "cell_type": "code",
   "execution_count": 29,
   "id": "88b89748",
   "metadata": {},
   "outputs": [
    {
     "name": "stdout",
     "output_type": "stream",
     "text": [
      "[1, 3, 5, 7, 9, 11, 13, 15, 17, 19, 21, 23, 25, 27, 29, 31, 33, 35, 37, 39, 41, 43, 45, 47, 49, 51, 53, 55, 57, 59, 61, 63, 65, 67, 69, 71, 73, 75, 77, 79, 81, 83, 85, 87, 89, 91, 93, 95, 97, 99]\n",
      "[0, 2, 4, 6, 8, 10, 12, 14, 16, 18, 20, 22, 24, 26, 28, 30, 32, 34, 36, 38, 40, 42, 44, 46, 48, 50, 52, 54, 56, 58, 60, 62, 64, 66, 68, 70, 72, 74, 76, 78, 80, 82, 84, 86, 88, 90, 92, 94, 96, 98, 100]\n"
     ]
    }
   ],
   "source": [
    "lst = [num for num in range(101)]\n",
    "odd_num = [num for num in lst if num%2!=0 ]\n",
    "print(odd_num)\n",
    "\n",
    "even_num = [num for num in lst if num%2==0 ]\n",
    "print(even_num)"
   ]
  },
  {
   "cell_type": "code",
   "execution_count": null,
   "id": "bf84c821",
   "metadata": {},
   "outputs": [],
   "source": []
  }
 ],
 "metadata": {
  "kernelspec": {
   "display_name": "Python 3 (ipykernel)",
   "language": "python",
   "name": "python3"
  },
  "language_info": {
   "codemirror_mode": {
    "name": "ipython",
    "version": 3
   },
   "file_extension": ".py",
   "mimetype": "text/x-python",
   "name": "python",
   "nbconvert_exporter": "python",
   "pygments_lexer": "ipython3",
   "version": "3.9.12"
  }
 },
 "nbformat": 4,
 "nbformat_minor": 5
}
